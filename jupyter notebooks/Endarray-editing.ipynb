{
 "cells": [
  {
   "cell_type": "code",
   "execution_count": 2,
   "metadata": {},
   "outputs": [
    {
     "name": "stdout",
     "output_type": "stream",
     "text": [
      "()\n",
      "('x = ', array([1, 2, 3, 4, 5]))\n",
      "()\n",
      "('This is First Element in x:', 1)\n",
      "('This is Second Element in x:', 2)\n",
      "('This is Fifth (Last) Element in x:', 5)\n",
      "()\n",
      "('This is First Element in x:', 1)\n",
      "('This is Second Element in x:', 2)\n",
      "('This is Fifth (Last) Element in x:', 5)\n"
     ]
    }
   ],
   "source": [
    "# editing \n",
    "\n",
    "import numpy as np\n",
    "\n",
    "# We create a rank 1 ndarray that contains integers from 1 to 5\n",
    "x = np.array([1, 2, 3, 4, 5])\n",
    "\n",
    "# We print x\n",
    "print()\n",
    "print('x = ', x)\n",
    "print()\n",
    "\n",
    "# Let's access some elements with positive indices\n",
    "print('This is First Element in x:', x[0]) \n",
    "print('This is Second Element in x:', x[1])\n",
    "print('This is Fifth (Last) Element in x:', x[4])\n",
    "print()\n",
    "\n",
    "# Let's access the same elements with negative indices\n",
    "print('This is First Element in x:', x[-5])\n",
    "print('This is Second Element in x:', x[-4])\n",
    "print('This is Fifth (Last) Element in x:', x[-1])"
   ]
  },
  {
   "cell_type": "code",
   "execution_count": 3,
   "metadata": {},
   "outputs": [
    {
     "name": "stdout",
     "output_type": "stream",
     "text": [
      "()\n",
      "('Original:\\n x = ', array([1, 2, 3, 4, 5]))\n",
      "()\n",
      "('Modified:\\n x = ', array([ 1,  2,  3, 20,  5]))\n"
     ]
    }
   ],
   "source": [
    "# We create a rank 1 ndarray that contains integers from 1 to 5\n",
    "x = np.array([1, 2, 3, 4, 5])\n",
    "\n",
    "# We print the original x\n",
    "print()\n",
    "print('Original:\\n x = ', x)\n",
    "print()\n",
    "\n",
    "# We change the fourth element in x from 4 to 20\n",
    "x[3] = 20\n",
    "\n",
    "# We print x after it was modified \n",
    "print('Modified:\\n x = ', x)"
   ]
  },
  {
   "cell_type": "code",
   "execution_count": 5,
   "metadata": {},
   "outputs": [
    {
     "name": "stdout",
     "output_type": "stream",
     "text": [
      "()\n",
      "('X = \\n', array([[1, 2, 3],\n",
      "       [4, 5, 6],\n",
      "       [7, 8, 9]]))\n",
      "()\n",
      "('This is (0,0) Element in X:', 1)\n",
      "('This is (0,1) Element in X:', 2)\n",
      "('This is (2,2) Element in X:', 9)\n"
     ]
    }
   ],
   "source": [
    "# We create a 3 x 3 rank 2 ndarray that contains integers from 1 to 9\n",
    "X = np.array([[1,2,3],[4,5,6],[7,8,9]])\n",
    "\n",
    "# We print X\n",
    "print()\n",
    "print('X = \\n', X)\n",
    "print()\n",
    "\n",
    "# Let's access some elements in X\n",
    "print('This is (0,0) Element in X:', X[0,0])\n",
    "print('This is (0,1) Element in X:', X[0,1])\n",
    "print('This is (2,2) Element in X:', X[2,2])\n"
   ]
  },
  {
   "cell_type": "code",
   "execution_count": 6,
   "metadata": {},
   "outputs": [
    {
     "name": "stdout",
     "output_type": "stream",
     "text": [
      "()\n",
      "('Original:\\n X = \\n', array([[1, 2, 3],\n",
      "       [4, 5, 6],\n",
      "       [7, 8, 9]]))\n",
      "()\n",
      "('Modified:\\n X = \\n', array([[20,  2,  3],\n",
      "       [ 4,  5,  6],\n",
      "       [ 7,  8,  9]]))\n"
     ]
    }
   ],
   "source": [
    "# We create a 3 x 3 rank 2 ndarray that contains integers from 1 to 9\n",
    "X = np.array([[1,2,3],[4,5,6],[7,8,9]])\n",
    "\n",
    "# We print the original x\n",
    "print()\n",
    "print('Original:\\n X = \\n', X)\n",
    "print()\n",
    "\n",
    "# We change the (0,0) element in X from 1 to 20\n",
    "X[0,0] = 20\n",
    "\n",
    "# We print X after it was modified \n",
    "print('Modified:\\n X = \\n', X)"
   ]
  },
  {
   "cell_type": "code",
   "execution_count": 7,
   "metadata": {},
   "outputs": [
    {
     "name": "stdout",
     "output_type": "stream",
     "text": [
      "()\n",
      "('Original x = ', array([1, 2, 3, 4, 5]))\n",
      "()\n",
      "('Modified x = ', array([2, 3, 4]))\n",
      "()\n",
      "('Original Y = \\n', array([[1, 2, 3],\n",
      "       [4, 5, 6],\n",
      "       [7, 8, 9]]))\n",
      "()\n",
      "('w = \\n', array([[4, 5, 6],\n",
      "       [7, 8, 9]]))\n",
      "()\n",
      "('v = \\n', array([[2],\n",
      "       [5],\n",
      "       [8]]))\n"
     ]
    }
   ],
   "source": [
    "# We create a rank 1 ndarray \n",
    "x = np.array([1, 2, 3, 4, 5])\n",
    "\n",
    "# We create a rank 2 ndarray\n",
    "Y = np.array([[1,2,3],[4,5,6],[7,8,9]])\n",
    "\n",
    "# We print x\n",
    "print()\n",
    "print('Original x = ', x)\n",
    "\n",
    "# We delete the first and last element of x\n",
    "x = np.delete(x, [0,4])\n",
    "\n",
    "# We print x with the first and last element deleted\n",
    "print()\n",
    "print('Modified x = ', x)\n",
    "\n",
    "# We print Y\n",
    "print()\n",
    "print('Original Y = \\n', Y)\n",
    "\n",
    "# We delete the first row of y\n",
    "w = np.delete(Y, 0, axis=0)\n",
    "\n",
    "# We delete the first and last column of y\n",
    "v = np.delete(Y, [0,2], axis=1)\n",
    "\n",
    "# We print w\n",
    "print()\n",
    "print('w = \\n', w)\n",
    "\n",
    "# We print v\n",
    "print()\n",
    "print('v = \\n', v)"
   ]
  },
  {
   "cell_type": "code",
   "execution_count": 8,
   "metadata": {},
   "outputs": [
    {
     "name": "stdout",
     "output_type": "stream",
     "text": [
      "()\n",
      "('Original x = ', array([1, 2, 3, 4, 5]))\n",
      "()\n",
      "('x = ', array([1, 2, 3, 4, 5, 6]))\n",
      "()\n",
      "('x = ', array([1, 2, 3, 4, 5, 6, 7, 8]))\n",
      "()\n",
      "('Original Y = \\n', array([[1, 2, 3],\n",
      "       [4, 5, 6]]))\n",
      "()\n",
      "('v = \\n', array([[1, 2, 3],\n",
      "       [4, 5, 6],\n",
      "       [7, 8, 9]]))\n",
      "()\n",
      "('q = \\n', array([[ 1,  2,  3,  9],\n",
      "       [ 4,  5,  6, 10]]))\n"
     ]
    }
   ],
   "source": [
    "# We create a rank 1 ndarray \n",
    "x = np.array([1, 2, 3, 4, 5])\n",
    "\n",
    "# We create a rank 2 ndarray \n",
    "Y = np.array([[1,2,3],[4,5,6]])\n",
    "\n",
    "# We print x\n",
    "print()\n",
    "print('Original x = ', x)\n",
    "\n",
    "# We append the integer 6 to x\n",
    "x = np.append(x, 6)\n",
    "\n",
    "# We print x\n",
    "print()\n",
    "print('x = ', x)\n",
    "\n",
    "# We append the integer 7 and 8 to x\n",
    "x = np.append(x, [7,8])\n",
    "\n",
    "# We print x\n",
    "print()\n",
    "print('x = ', x)\n",
    "\n",
    "# We print Y\n",
    "print()\n",
    "print('Original Y = \\n', Y)\n",
    "\n",
    "# We append a new row containing 7,8,9 to y\n",
    "v = np.append(Y, [[7,8,9]], axis=0)\n",
    "\n",
    "# We append a new column containing 9 and 10 to y\n",
    "q = np.append(Y,[[9],[10]], axis=1)\n",
    "\n",
    "# We print v\n",
    "print()\n",
    "print('v = \\n', v)\n",
    "\n",
    "# We print q\n",
    "print()\n",
    "print('q = \\n', q)"
   ]
  },
  {
   "cell_type": "code",
   "execution_count": null,
   "metadata": {},
   "outputs": [],
   "source": []
  }
 ],
 "metadata": {
  "kernelspec": {
   "display_name": "Python [conda env:aipndenv]",
   "language": "python",
   "name": "conda-env-aipndenv-py"
  },
  "language_info": {
   "codemirror_mode": {
    "name": "ipython",
    "version": 2
   },
   "file_extension": ".py",
   "mimetype": "text/x-python",
   "name": "python",
   "nbconvert_exporter": "python",
   "pygments_lexer": "ipython2",
   "version": "2.7.14"
  }
 },
 "nbformat": 4,
 "nbformat_minor": 2
}
